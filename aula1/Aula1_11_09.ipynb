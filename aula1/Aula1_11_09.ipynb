{
  "nbformat": 4,
  "nbformat_minor": 0,
  "metadata": {
    "colab": {
      "provenance": []
    },
    "kernelspec": {
      "name": "python3",
      "display_name": "Python 3"
    },
    "language_info": {
      "name": "python"
    }
  },
  "cells": [
    {
      "cell_type": "markdown",
      "source": [
        "1.**REVISÃO DE FOR E WHILE**"
      ],
      "metadata": {
        "id": "9u-ggOtQUEYB"
      }
    },
    {
      "cell_type": "code",
      "source": [
        "for i in range(5):\n",
        "  print('aula')\n",
        "print('Python')"
      ],
      "metadata": {
        "colab": {
          "base_uri": "https://localhost:8080/"
        },
        "id": "7ziTxA3NUmzI",
        "outputId": "d558d1c9-8644-4b89-d4aa-7bcf7d81ca49"
      },
      "execution_count": null,
      "outputs": [
        {
          "output_type": "stream",
          "name": "stdout",
          "text": [
            "aula\n",
            "aula\n",
            "aula\n",
            "aula\n",
            "aula\n",
            "Python\n"
          ]
        }
      ]
    },
    {
      "cell_type": "code",
      "source": [
        "for i in range(1,20,2):\n",
        "  print(i)"
      ],
      "metadata": {
        "colab": {
          "base_uri": "https://localhost:8080/"
        },
        "id": "cn2z-3WnU_PS",
        "outputId": "942126f4-1497-47c5-c747-5ecd81dfd018"
      },
      "execution_count": null,
      "outputs": [
        {
          "output_type": "stream",
          "name": "stdout",
          "text": [
            "1\n",
            "3\n",
            "5\n",
            "7\n",
            "9\n",
            "11\n",
            "13\n",
            "15\n",
            "17\n",
            "19\n"
          ]
        }
      ]
    },
    {
      "cell_type": "code",
      "source": [
        "cont = 0\n",
        "while cont <=10:\n",
        "  print('Aula')\n",
        "  cont +=1"
      ],
      "metadata": {
        "colab": {
          "base_uri": "https://localhost:8080/"
        },
        "id": "XO3y69ltVYl4",
        "outputId": "9c9b1e94-741b-460b-de6d-570007313479"
      },
      "execution_count": null,
      "outputs": [
        {
          "output_type": "stream",
          "name": "stdout",
          "text": [
            "Aula\n",
            "Aula\n",
            "Aula\n",
            "Aula\n",
            "Aula\n",
            "Aula\n",
            "Aula\n",
            "Aula\n",
            "Aula\n",
            "Aula\n",
            "Aula\n"
          ]
        }
      ]
    },
    {
      "cell_type": "code",
      "source": [
        "while True: #O 'T' de true sempre tem que ser maiusculo.\n",
        "  n1 = int(input('Digite um número ou 0 para sair: '))\n",
        "\n",
        "  if n1 == 0:\n",
        "    print('FIM DO PROGRAMA!')\n",
        "    break"
      ],
      "metadata": {
        "colab": {
          "base_uri": "https://localhost:8080/"
        },
        "id": "rMMAi6BKV08h",
        "outputId": "a6f5cb14-c0b8-4d53-e18c-9eb0fb7224d2"
      },
      "execution_count": null,
      "outputs": [
        {
          "output_type": "stream",
          "name": "stdout",
          "text": [
            "Digite um número ou 0 para sair: 1\n",
            "Digite um número ou 0 para sair: 2\n",
            "Digite um número ou 0 para sair: 3\n",
            "Digite um número ou 0 para sair: 4\n",
            "Digite um número ou 0 para sair: 5\n",
            "Digite um número ou 0 para sair: 0\n",
            "FIM DO PROGRAMA!\n"
          ]
        }
      ]
    },
    {
      "cell_type": "markdown",
      "source": [
        "2. **BIBLIOTECAS**"
      ],
      "metadata": {
        "id": "ciYrsRloU5f5"
      }
    },
    {
      "cell_type": "code",
      "source": [
        "import math"
      ],
      "metadata": {
        "id": "Rig_CC5WVTMh"
      },
      "execution_count": null,
      "outputs": []
    },
    {
      "cell_type": "code",
      "source": [
        "#Calculando a raiz quadrada\n",
        "print(math.sqrt(16))"
      ],
      "metadata": {
        "colab": {
          "base_uri": "https://localhost:8080/"
        },
        "id": "QGs-GFjUXnF5",
        "outputId": "5b292d64-eb7a-45f2-df3f-5ddda6988e8b"
      },
      "execution_count": null,
      "outputs": [
        {
          "output_type": "stream",
          "name": "stdout",
          "text": [
            "4.0\n"
          ]
        }
      ]
    },
    {
      "cell_type": "code",
      "source": [
        "#Calculando a potência\n",
        "print(math.pow(5,2))"
      ],
      "metadata": {
        "colab": {
          "base_uri": "https://localhost:8080/"
        },
        "id": "Bwji3EloX6v5",
        "outputId": "cc139ece-6e9f-4e44-dcbb-c12a81726f0a"
      },
      "execution_count": null,
      "outputs": [
        {
          "output_type": "stream",
          "name": "stdout",
          "text": [
            "25.0\n"
          ]
        }
      ]
    },
    {
      "cell_type": "code",
      "source": [
        "#Calculando o fatorial 5x4x3x2x1\n",
        "print(math.factorial(5))"
      ],
      "metadata": {
        "colab": {
          "base_uri": "https://localhost:8080/"
        },
        "id": "lHyGNPWFYIoh",
        "outputId": "1694d3fe-ce94-44da-9131-e6c133043302"
      },
      "execution_count": null,
      "outputs": [
        {
          "output_type": "stream",
          "name": "stdout",
          "text": [
            "120\n"
          ]
        }
      ]
    },
    {
      "cell_type": "code",
      "source": [
        "import random"
      ],
      "metadata": {
        "id": "XHHcOfxoYZcQ"
      },
      "execution_count": null,
      "outputs": []
    },
    {
      "cell_type": "code",
      "source": [
        "#Retorna um número aleatório entre 1 e 100\n",
        "random.randint(1,100)"
      ],
      "metadata": {
        "colab": {
          "base_uri": "https://localhost:8080/"
        },
        "id": "k5aP9UGgYfdg",
        "outputId": "6f107f89-276e-4fd7-aad6-24caf5ba7fee"
      },
      "execution_count": null,
      "outputs": [
        {
          "output_type": "execute_result",
          "data": {
            "text/plain": [
              "44"
            ]
          },
          "metadata": {},
          "execution_count": 20
        }
      ]
    },
    {
      "cell_type": "code",
      "source": [
        "#Sorteia um número da lista\n",
        "random.choice([5,7,12,45,22,15])"
      ],
      "metadata": {
        "colab": {
          "base_uri": "https://localhost:8080/"
        },
        "id": "vuWOOo7TY2WJ",
        "outputId": "10081883-f838-4cc9-e52c-9214d5a5c385"
      },
      "execution_count": null,
      "outputs": [
        {
          "output_type": "execute_result",
          "data": {
            "text/plain": [
              "5"
            ]
          },
          "metadata": {},
          "execution_count": 25
        }
      ]
    },
    {
      "cell_type": "code",
      "source": [
        "#Sorteia um número da lista\n",
        "random.choice(['Maria','Giovana','Wanderson','Nathalia','Lia','Maria','Carlos'])"
      ],
      "metadata": {
        "colab": {
          "base_uri": "https://localhost:8080/",
          "height": 35
        },
        "id": "6-KARXDZZLaI",
        "outputId": "e41b19c1-114e-41f9-e26a-1879131aa965"
      },
      "execution_count": null,
      "outputs": [
        {
          "output_type": "execute_result",
          "data": {
            "text/plain": [
              "'Lia'"
            ],
            "application/vnd.google.colaboratory.intrinsic+json": {
              "type": "string"
            }
          },
          "metadata": {},
          "execution_count": 35
        }
      ]
    },
    {
      "cell_type": "code",
      "source": [
        "import datetime"
      ],
      "metadata": {
        "id": "7m0O4dA9Zk64"
      },
      "execution_count": null,
      "outputs": []
    },
    {
      "cell_type": "code",
      "source": [
        "#Para saber a data de hoje\n",
        "datetime.date.today()\n"
      ],
      "metadata": {
        "colab": {
          "base_uri": "https://localhost:8080/"
        },
        "id": "5GSWxyDdZpmB",
        "outputId": "6dd78bbd-7c41-40f4-9ce4-b8dc7342dc48"
      },
      "execution_count": null,
      "outputs": [
        {
          "output_type": "execute_result",
          "data": {
            "text/plain": [
              "datetime.date(2023, 9, 11)"
            ]
          },
          "metadata": {},
          "execution_count": 38
        }
      ]
    },
    {
      "cell_type": "code",
      "source": [
        "datetime.date.today().day"
      ],
      "metadata": {
        "colab": {
          "base_uri": "https://localhost:8080/"
        },
        "id": "dAL0wvJ0Z41a",
        "outputId": "1e26d0fb-1810-4f61-b31f-aa7be4ed5438"
      },
      "execution_count": null,
      "outputs": [
        {
          "output_type": "execute_result",
          "data": {
            "text/plain": [
              "11"
            ]
          },
          "metadata": {},
          "execution_count": 39
        }
      ]
    },
    {
      "cell_type": "code",
      "source": [
        "datetime.date.today().month"
      ],
      "metadata": {
        "colab": {
          "base_uri": "https://localhost:8080/"
        },
        "id": "2m8LvOM7Z7a5",
        "outputId": "b0137faa-da66-4ee8-c5ed-efc3c2201e5f"
      },
      "execution_count": null,
      "outputs": [
        {
          "output_type": "execute_result",
          "data": {
            "text/plain": [
              "9"
            ]
          },
          "metadata": {},
          "execution_count": 40
        }
      ]
    },
    {
      "cell_type": "code",
      "source": [
        "datetime.date.today().year"
      ],
      "metadata": {
        "colab": {
          "base_uri": "https://localhost:8080/"
        },
        "id": "sZTPa1kuaF1p",
        "outputId": "edad34e1-a380-46a4-a605-c7293b6b71d1"
      },
      "execution_count": null,
      "outputs": [
        {
          "output_type": "execute_result",
          "data": {
            "text/plain": [
              "2023"
            ]
          },
          "metadata": {},
          "execution_count": 41
        }
      ]
    },
    {
      "cell_type": "code",
      "source": [
        "import time"
      ],
      "metadata": {
        "id": "rs0EYqevaxHB"
      },
      "execution_count": null,
      "outputs": []
    },
    {
      "cell_type": "code",
      "source": [
        "#Para dar um pequeno tempo de recarga até a proxima (temporizador)\n",
        "for i in range(5):\n",
        "  print('Conectando...')\n",
        "  time.sleep(1)"
      ],
      "metadata": {
        "colab": {
          "base_uri": "https://localhost:8080/"
        },
        "id": "yOjRH2nvazgx",
        "outputId": "7ffa2f7d-a9a0-4caa-e949-d2b803090b9b"
      },
      "execution_count": null,
      "outputs": [
        {
          "output_type": "stream",
          "name": "stdout",
          "text": [
            "Conectando...\n",
            "Conectando...\n",
            "Conectando...\n",
            "Conectando...\n",
            "Conectando...\n"
          ]
        }
      ]
    },
    {
      "cell_type": "code",
      "source": [
        "#Usada para validar senhas\n",
        "import getpass\n",
        "\n",
        "senha = getpass.getpass('Informe a senha: ')\n",
        "\n",
        "if senha == '123':\n",
        "  print('Acesso liberado!')\n",
        "else:\n",
        "  print('Acesso não liberado')\n"
      ],
      "metadata": {
        "colab": {
          "base_uri": "https://localhost:8080/"
        },
        "id": "F7_1dGH6bTWi",
        "outputId": "f05aed4b-6913-4413-c1c5-8b8075c30b0f"
      },
      "execution_count": null,
      "outputs": [
        {
          "output_type": "stream",
          "name": "stdout",
          "text": [
            "Informe a senha: ··········\n",
            "Acesso liberado!\n"
          ]
        }
      ]
    },
    {
      "cell_type": "markdown",
      "source": [
        "3. **MATCH CASE**"
      ],
      "metadata": {
        "id": "Mt8kt9IcW3kZ"
      }
    },
    {
      "cell_type": "code",
      "source": [
        "from traitlets.config import default\n",
        "\n",
        "while True:\n",
        "  dia = int(input('Digite um número de 1 a 7 ou 0 para sair: '))\n",
        "\n",
        "  if dia == 0:\n",
        "    print('FIM DO PROGRAMA!')\n",
        "    break\n",
        "\n",
        "  match dia:\n",
        "    case 1:\n",
        "      print('Domingo')\n",
        "    case 2:\n",
        "      print('Segunda')\n",
        "    case 3:\n",
        "      print('Terça')\n",
        "    case 4:\n",
        "      print('Quarta')\n",
        "    case 5:\n",
        "      print('Quinta')\n",
        "    case 6:\n",
        "      print('Sexta')\n",
        "    case 7:\n",
        "      print('Sábado')\n",
        "    case default:\n",
        "      print('Opção inválida!')"
      ],
      "metadata": {
        "colab": {
          "base_uri": "https://localhost:8080/"
        },
        "id": "1KADYDZ7dAoJ",
        "outputId": "6ffb0009-d32b-4f8b-9b6f-d06ab44db56e"
      },
      "execution_count": null,
      "outputs": [
        {
          "output_type": "stream",
          "name": "stdout",
          "text": [
            "Digite um número de 1 a 7 ou 0 oara sair: 1\n",
            "Domingo\n",
            "Digite um número de 1 a 7 ou 0 oara sair: 2\n",
            "Segunda\n",
            "Digite um número de 1 a 7 ou 0 oara sair: 3\n",
            "Terça\n",
            "Digite um número de 1 a 7 ou 0 oara sair: 4\n",
            "Quarta\n",
            "Digite um número de 1 a 7 ou 0 oara sair: 5\n",
            "Quinta\n",
            "Digite um número de 1 a 7 ou 0 oara sair: 6\n",
            "Sexta\n",
            "Digite um número de 1 a 7 ou 0 oara sair: 7\n",
            "Sábado\n",
            "Digite um número de 1 a 7 ou 0 oara sair: 0\n",
            "FIM DO PROGRAMA!\n"
          ]
        }
      ]
    },
    {
      "cell_type": "markdown",
      "source": [
        "Exercício **REVISÃO**\n",
        "\n",
        "1. Fazer um programa que solicite 2 números e informe:\n",
        "\n",
        "a) A soma dos números;\n",
        "b) A soma do primeiro número pelo quadrado do segundo;\n",
        "c) O quadrado do primeiro número;\n",
        "d) A raiz quadrada da soma dos quadrados;"
      ],
      "metadata": {
        "id": "Y1ttds6dfXvh"
      }
    },
    {
      "cell_type": "code",
      "source": [
        "\n",
        "# Solicita os números ao usuário\n",
        "n1 = float(input(\"Digite o primeiro número: \"))\n",
        "n2 = float(input(\"Digite o segundo número: \"))\n",
        "\n",
        "# Calcula a soma dos números\n",
        "soma = n1 + n2\n",
        "# Calcula a soma do primeiro número pelo quadrado do segundo\n",
        "soma_primeiro_pelo_quadrado_segundo = n1 + (n2 * n2)\n",
        "# Calcula o quadrado do primeiro número\n",
        "quadrado_primeiro = n1 * n1\n",
        "# Calcula a raiz quadrada da soma dos quadrados\n",
        "raiz_quadrada_soma_quadrados = (n1 * n1) + (n2 * n2)\n",
        "# Imprime os resultados\n",
        "print(\"A soma dos números é\", soma)\n",
        "print(\"A soma do primeiro número pelo quadrado do segundo é\", soma_primeiro_pelo_quadrado_segundo)\n",
        "print(\"O quadrado do primeiro número é\", quadrado_primeiro)\n",
        "print(\"A raiz quadrada da soma dos quadrados é\", raiz_quadrada_soma_quadrados)"
      ],
      "metadata": {
        "colab": {
          "base_uri": "https://localhost:8080/"
        },
        "id": "X7sOi_K8gMEJ",
        "outputId": "65c7416c-16f3-468d-ef08-5de6840a567a"
      },
      "execution_count": null,
      "outputs": [
        {
          "output_type": "stream",
          "name": "stdout",
          "text": [
            "Digite o primeiro número: 5\n",
            "Digite o segundo número: 5\n",
            "A soma dos números é 10.0\n",
            "A soma do primeiro número pelo quadrado do segundo é 30.0\n",
            "O quadrado do primeiro número é 25.0\n",
            "A raiz quadrada da soma dos quadrados é 50.0\n"
          ]
        }
      ]
    },
    {
      "cell_type": "markdown",
      "source": [
        "2.**Faça um programa que leia dois números e mostre qual o maior deles, o menor, ou se os números são iguais.**"
      ],
      "metadata": {
        "id": "oPQ6U6aVh_Zq"
      }
    },
    {
      "cell_type": "code",
      "source": [
        "#Solicita os números ao usuário\n",
        "n1 = int(input(\"Digite o primeiro número: \"))\n",
        "n2 = int(input(\"Digite o segundo número: \"))\n",
        "# Verifica se os números são iguais\n",
        "if n1 == n2:\n",
        "    print(\"Os números são iguais.\")\n",
        "# Verifica se o primeiro número é maior que o segundo\n",
        "elif n1 > n2:\n",
        "    print(\"O primeiro número é maior que o segundo.\")\n",
        "# Caso contrário, o segundo número é maior que o primeiro\n",
        "else:\n",
        "    print(\"O segundo número é maior que o primeiro.\")"
      ],
      "metadata": {
        "colab": {
          "base_uri": "https://localhost:8080/"
        },
        "id": "XTir6pWYiQSK",
        "outputId": "2dedfc0f-24a5-49d5-a46f-7772334533d7"
      },
      "execution_count": null,
      "outputs": [
        {
          "output_type": "stream",
          "name": "stdout",
          "text": [
            "Digite o primeiro número: 2\n",
            "Digite o segundo número: 10\n",
            "O segundo número é maior que o primeiro.\n"
          ]
        }
      ]
    },
    {
      "cell_type": "markdown",
      "source": [
        "3. **Faça um programa que mostre o valor a ser pago de uma prestação. O programa deverá ler o valor da prestação e o número de dias em atraso. Se a prestação estiver atrasada, deverá ser aplicada uma multa de 8%+0,03 por dia de atrasado, em seguida mostrar o valor final. Se não, mostrar o valor normal, sem acréscimos.**"
      ],
      "metadata": {
        "id": "AHON0yeMk4e2"
      }
    },
    {
      "cell_type": "markdown",
      "source": [],
      "metadata": {
        "id": "3FAB2MI-r8jq"
      }
    },
    {
      "cell_type": "code",
      "source": [
        "\n",
        "valor_prestacao = float(input(\"Digite o valor da prestação: \"))\n",
        "dias_atraso = int(input(\"Digite o número de dias em atraso: \"))\n",
        "multa = valor_prestacao * 0.08 + valor_prestacao * 0.03 * dias_atraso\n",
        "\n",
        "if dias_atraso > 0:\n",
        "\n",
        "    valor_final = valor_prestacao + multa\n",
        "    print(\"O valor final a ser pago é R$\", valor_final)\n",
        "\n",
        "else:\n",
        "\n",
        "    print(\"O valor normal da prestação é R$\", valor_prestacao)\n"
      ],
      "metadata": {
        "colab": {
          "base_uri": "https://localhost:8080/"
        },
        "id": "W3VekMOjldRD",
        "outputId": "b08e675c-d27e-4ce0-d354-554f015b9c74"
      },
      "execution_count": null,
      "outputs": [
        {
          "output_type": "stream",
          "name": "stdout",
          "text": [
            "Digite o valor da prestação: 1000\n",
            "Digite o número de dias em atraso: 15\n",
            "O valor final a ser pago é R$ 1530.0\n"
          ]
        }
      ]
    },
    {
      "cell_type": "markdown",
      "source": [
        "4. **Faça um programa que sorteie um nome de uma lista.**"
      ],
      "metadata": {
        "id": "3bZbgXpMmWEK"
      }
    },
    {
      "cell_type": "code",
      "source": [
        "import random\n",
        "nomes = [\"João\", \"Maria\", \"Pedro\", \"Ana\", \"Carlos\",\"Wanderson\",\"Fabio\",\"Lia\",\"André\",\"Rosa\",\"Natalia\"]\n",
        "\n",
        "nome_sorteado = random.choice(nomes)\n",
        "print(nome_sorteado)"
      ],
      "metadata": {
        "colab": {
          "base_uri": "https://localhost:8080/"
        },
        "id": "TYES-IHEnFoD",
        "outputId": "7df5a570-cc91-4171-e5ae-e90d81eff48e"
      },
      "execution_count": null,
      "outputs": [
        {
          "output_type": "stream",
          "name": "stdout",
          "text": [
            "Lia\n"
          ]
        }
      ]
    },
    {
      "cell_type": "markdown",
      "source": [
        "5.**Faça um programa que valide a senha de uma empresa.**"
      ],
      "metadata": {
        "id": "e1Xopfh_meZS"
      }
    },
    {
      "cell_type": "code",
      "source": [
        "print(\"Faça já seu cadastro:\")\n",
        "usuario=str(input(\"Usuário--> \"))\n",
        "senha=str(input(\"Senha-->\"))\n",
        "while usuario==senha:\n",
        "\tprint(\"ERRO: O usuário não pode ser igual a senha, tente novamente\")\n",
        "\tusuario=str(input(\"Usuário--> \"))\n",
        "\tsenha=str(input(\"Senha-->\"))\n",
        "else:\n",
        "\tprint(\"Cadastrado efetuado com sucesso\")"
      ],
      "metadata": {
        "colab": {
          "base_uri": "https://localhost:8080/"
        },
        "id": "oewAXbofoJ32",
        "outputId": "6e9abcf0-2d6a-4c60-8518-f30f01536fdc"
      },
      "execution_count": null,
      "outputs": [
        {
          "output_type": "stream",
          "name": "stdout",
          "text": [
            "Faça já seu cadastro:\n",
            "Usuário--> Wanderson\n",
            "Senha-->Sol123\n",
            "Cadastrado efetuado com sucesso\n"
          ]
        }
      ]
    },
    {
      "cell_type": "markdown",
      "source": [
        "6.**Faça um programa que leia o códio, descrição e valor de um produto. No final, deve mostrar os dados lidos, e o valor com 10% de desconto o código do produto deverá ser gerado aleatóriamente.**"
      ],
      "metadata": {
        "id": "6C9A1-MBmj90"
      }
    },
    {
      "cell_type": "code",
      "source": [
        "import random\n",
        "codigo = random.randint(100000, 999999)\n",
        "nome = input(\"Digite o nome do produto: \")\n",
        "descricao = input(\"Digite a descrição do produto: \")\n",
        "valor = float(input(\"Digite o valor do produto: \"))\n",
        "valor_com_desconto = valor * 0.9\n",
        "print(\"Código:\", codigo)\n",
        "print(\"Nome:\", nome)\n",
        "print(\"Descrição:\", descricao)\n",
        "print(\"Valor:\", valor)\n",
        "print(\"Valor com desconto:\", valor_com_desconto)"
      ],
      "metadata": {
        "colab": {
          "base_uri": "https://localhost:8080/"
        },
        "id": "q6oKYFc8p2fT",
        "outputId": "922ac35f-4d69-47f6-8005-28f62e880831"
      },
      "execution_count": null,
      "outputs": [
        {
          "output_type": "stream",
          "name": "stdout",
          "text": [
            "Digite o nome do produto: Camiseta Zara\n",
            "Digite a descrição do produto: Camiseta masculina\n",
            "Digite o valor do produto: 250\n",
            "Código: 421199\n",
            "Nome: Camiseta Zara\n",
            "Descrição: Camiseta masculina\n",
            "Valor: 250.0\n",
            "Valor com desconto: 225.0\n"
          ]
        }
      ]
    }
  ]
}